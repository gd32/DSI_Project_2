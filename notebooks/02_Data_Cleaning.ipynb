{
 "cells": [
  {
   "cell_type": "markdown",
   "metadata": {},
   "source": [
    "# Data Cleaning, Feature Selection and Feature Engineering\n",
    "\n",
    "**In this notebook, I apply data cleaning and feature selection techniques to the datasets to prepare them for modeling. In addition, I create features that summarize a combination of features originally contained in the data.**\n"
   ]
  },
  {
   "cell_type": "markdown",
   "metadata": {},
   "source": [
    "## Importing modules and clean data"
   ]
  },
  {
   "cell_type": "code",
   "execution_count": 39,
   "metadata": {
    "scrolled": true
   },
   "outputs": [],
   "source": [
    "import pandas as pd\n",
    "import numpy as np\n",
    "import seaborn as sns \n",
    "import matplotlib.pyplot as plt\n",
    "import scipy.stats as stats\n",
    "\n",
    "sns.set_style('dark')\n",
    "plt.style.use('seaborn')\n",
    "%matplotlib inline\n",
    "\n",
    "data = '../data/housing_clean.csv'\n",
    "test_data = '../data/test_clean.csv'\n",
    "housing = pd.read_csv(data)\n",
    "test = pd.read_csv(test_data)"
   ]
  },
  {
   "cell_type": "markdown",
   "metadata": {},
   "source": [
    "## Outlier selection"
   ]
  },
  {
   "cell_type": "markdown",
   "metadata": {},
   "source": [
    "Let's examine our strongly correlated variables since any outliers in those features will affect our models more signficantly:\n",
    "\n",
    "### Overall quality"
   ]
  },
  {
   "cell_type": "code",
   "execution_count": 40,
   "metadata": {},
   "outputs": [
    {
     "data": {
      "image/png": "[encoded data removed]",
      "text/plain": [
       "<matplotlib.figure.Figure at 0x27e824f2ef0>"
      ]
     },
     "metadata": {},
     "output_type": "display_data"
    }
   ],
   "source": [
    "plt.figure(figsize=(10, 6))\n",
    "sns.boxplot(housing['overall_qual'], housing.saleprice, palette='Blues')\n",
    "plt.title('Boxplots for overall quality level vs. log saleprice', size=16)\n",
    "plt.xlabel('Overall quality', size=14)\n",
    "plt.ylabel('log Saleprice', size=14);"
   ]
  },
  {
   "cell_type": "markdown",
   "metadata": {},
   "source": [
    "We see that there are signficantly low outliers for price for houses with quality 2, 9, and 10. While outliers on the high end make sense in a positively linear relationship between quality and price, the low outliers probably have their prices reduced by some other factor. \n",
    "\n",
    "Let's look at the rows for those outliers and keep them in mind:"
   ]
  },
  {
   "cell_type": "code",
   "execution_count": 41,
   "metadata": {},
   "outputs": [],
   "source": [
    "compare = ['saleprice', 'overall_qual']"
   ]
  },
  {
   "cell_type": "code",
   "execution_count": 42,
   "metadata": {},
   "outputs": [
    {
     "data": {
      "text/html": [
       "<div>\n",
       "<style scoped>\n",
       "    .dataframe tbody tr th:only-of-type {\n",
       "        vertical-align: middle;\n",
       "    }\n",
       "\n",
       "    .dataframe tbody tr th {\n",
       "        vertical-align: top;\n",
       "    }\n",
       "\n",
       "    .dataframe thead th {\n",
       "        text-align: right;\n",
       "    }\n",
       "</style>\n",
       "<table border=\"1\" class=\"dataframe\">\n",
       "  <thead>\n",
       "    <tr style=\"text-align: right;\">\n",
       "      <th></th>\n",
       "      <th>saleprice</th>\n",
       "      <th>overall_qual</th>\n",
       "    </tr>\n",
       "  </thead>\n",
       "  <tbody>\n",
       "    <tr>\n",
       "      <th>1628</th>\n",
       "      <td>9.456419</td>\n",
       "      <td>2</td>\n",
       "    </tr>\n",
       "  </tbody>\n",
       "</table>\n",
       "</div>"
      ],
      "text/plain": [
       "      saleprice  overall_qual\n",
       "1628   9.456419             2"
      ]
     },
     "execution_count": 42,
     "metadata": {},
     "output_type": "execute_result"
    }
   ],
   "source": [
    "housing[(housing['overall_qual'] == 2) & (housing['saleprice']< 10)][compare]"
   ]
  },
  {
   "cell_type": "markdown",
   "metadata": {},
   "source": [
    "This gives us the $log$ saleprice for the quality 2 outlier. If we exponentiate it, we get an approximate value in dollars:"
   ]
  },
  {
   "cell_type": "code",
   "execution_count": 43,
   "metadata": {},
   "outputs": [
    {
     "data": {
      "text/plain": [
       "12789.001348412834"
      ]
     },
     "execution_count": 43,
     "metadata": {},
     "output_type": "execute_result"
    }
   ],
   "source": [
    "np.expm1(9.456419)"
   ]
  },
  {
   "cell_type": "markdown",
   "metadata": {},
   "source": [
    "We see that this house sold for only $12800 (which seems quite low).\n",
    "\n",
    "Let's look at the prices for the quality 9/10 outliers:"
   ]
  },
  {
   "cell_type": "code",
   "execution_count": 44,
   "metadata": {},
   "outputs": [
    {
     "data": {
      "text/html": [
       "<div>\n",
       "<style scoped>\n",
       "    .dataframe tbody tr th:only-of-type {\n",
       "        vertical-align: middle;\n",
       "    }\n",
       "\n",
       "    .dataframe tbody tr th {\n",
       "        vertical-align: top;\n",
       "    }\n",
       "\n",
       "    .dataframe thead th {\n",
       "        text-align: right;\n",
       "    }\n",
       "</style>\n",
       "<table border=\"1\" class=\"dataframe\">\n",
       "  <thead>\n",
       "    <tr style=\"text-align: right;\">\n",
       "      <th></th>\n",
       "      <th>saleprice</th>\n",
       "      <th>overall_qual</th>\n",
       "    </tr>\n",
       "  </thead>\n",
       "  <tbody>\n",
       "    <tr>\n",
       "      <th>125</th>\n",
       "      <td>11.918397</td>\n",
       "      <td>9</td>\n",
       "    </tr>\n",
       "    <tr>\n",
       "      <th>960</th>\n",
       "      <td>11.982935</td>\n",
       "      <td>10</td>\n",
       "    </tr>\n",
       "    <tr>\n",
       "      <th>1885</th>\n",
       "      <td>12.121881</td>\n",
       "      <td>10</td>\n",
       "    </tr>\n",
       "  </tbody>\n",
       "</table>\n",
       "</div>"
      ],
      "text/plain": [
       "      saleprice  overall_qual\n",
       "125   11.918397             9\n",
       "960   11.982935            10\n",
       "1885  12.121881            10"
      ]
     },
     "execution_count": 44,
     "metadata": {},
     "output_type": "execute_result"
    }
   ],
   "source": [
    "housing[((housing['overall_qual'] == 9) | (housing['overall_qual'] == 10)) & (housing['saleprice']< 12.3)][compare]"
   ]
  },
  {
   "cell_type": "markdown",
   "metadata": {},
   "source": [
    "Let's exponentiate our saleprices for these three houses:"
   ]
  },
  {
   "cell_type": "code",
   "execution_count": 45,
   "metadata": {
    "scrolled": true
   },
   "outputs": [
    {
     "data": {
      "text/plain": [
       "[148745.67943014178, 159531.0306232254, 183504.51490438476]"
      ]
     },
     "execution_count": 45,
     "metadata": {},
     "output_type": "execute_result"
    }
   ],
   "source": [
    "[np.expm1(x) for x in [11.91, 11.98, 12.12]]"
   ]
  },
  {
   "cell_type": "markdown",
   "metadata": {},
   "source": [
    "These three homes sold for under $200,000."
   ]
  },
  {
   "cell_type": "code",
   "execution_count": 46,
   "metadata": {},
   "outputs": [
    {
     "data": {
      "text/plain": [
       "369846.30266367417"
      ]
     },
     "execution_count": 46,
     "metadata": {},
     "output_type": "execute_result"
    }
   ],
   "source": [
    "np.expm1(housing[((housing['overall_qual'] == 9) | (housing['overall_qual'] == 10))].saleprice.mean())"
   ]
  },
  {
   "cell_type": "markdown",
   "metadata": {},
   "source": [
    "Looking at the average sale price for condition 9 or 10 homes, the three homes listed above are well below the mean."
   ]
  },
  {
   "cell_type": "markdown",
   "metadata": {},
   "source": [
    "### Above ground living area"
   ]
  },
  {
   "cell_type": "code",
   "execution_count": 47,
   "metadata": {},
   "outputs": [
    {
     "data": {
      "image/png": "[encoded data removed]",
      "text/plain": [
       "<matplotlib.figure.Figure at 0x27e833f1ba8>"
      ]
     },
     "metadata": {},
     "output_type": "display_data"
    }
   ],
   "source": [
    "plt.figure(figsize=(10, 6))\n",
    "plt.scatter(housing['gr_liv_area'], housing.saleprice, c='darkblue')\n",
    "plt.title('Ground living area and log Sale Price', size=16)\n",
    "plt.xlabel('Ground living area (sq ft)', size=14)\n",
    "plt.ylabel('log Sale Price', size=14);\n",
    "plt.tight_layout()"
   ]
  },
  {
   "cell_type": "markdown",
   "metadata": {},
   "source": [
    "**We see that there are some noticeable outliers with high area but relatively low price and some with low area and extremely low price:**"
   ]
  },
  {
   "cell_type": "code",
   "execution_count": 48,
   "metadata": {
    "scrolled": true
   },
   "outputs": [
    {
     "data": {
      "text/html": [
       "<div>\n",
       "<style scoped>\n",
       "    .dataframe tbody tr th:only-of-type {\n",
       "        vertical-align: middle;\n",
       "    }\n",
       "\n",
       "    .dataframe tbody tr th {\n",
       "        vertical-align: top;\n",
       "    }\n",
       "\n",
       "    .dataframe thead th {\n",
       "        text-align: right;\n",
       "    }\n",
       "</style>\n",
       "<table border=\"1\" class=\"dataframe\">\n",
       "  <thead>\n",
       "    <tr style=\"text-align: right;\">\n",
       "      <th></th>\n",
       "      <th>id</th>\n",
       "      <th>pid</th>\n",
       "      <th>ms_subclass</th>\n",
       "      <th>ms_zoning</th>\n",
       "      <th>lot_frontage</th>\n",
       "      <th>lot_area</th>\n",
       "      <th>street</th>\n",
       "      <th>lot_shape</th>\n",
       "      <th>land_contour</th>\n",
       "      <th>utilities</th>\n",
       "      <th>...</th>\n",
       "      <th>screen_porch</th>\n",
       "      <th>pool_area</th>\n",
       "      <th>pool_qc</th>\n",
       "      <th>fence</th>\n",
       "      <th>misc_feature</th>\n",
       "      <th>misc_val</th>\n",
       "      <th>mo_sold</th>\n",
       "      <th>yr_sold</th>\n",
       "      <th>sale_type</th>\n",
       "      <th>saleprice</th>\n",
       "    </tr>\n",
       "  </thead>\n",
       "  <tbody>\n",
       "    <tr>\n",
       "      <th>960</th>\n",
       "      <td>1499</td>\n",
       "      <td>908154235</td>\n",
       "      <td>60</td>\n",
       "      <td>RL</td>\n",
       "      <td>313.0</td>\n",
       "      <td>63887</td>\n",
       "      <td>Pave</td>\n",
       "      <td>IR3</td>\n",
       "      <td>Bnk</td>\n",
       "      <td>AllPub</td>\n",
       "      <td>...</td>\n",
       "      <td>0</td>\n",
       "      <td>480</td>\n",
       "      <td>Gd</td>\n",
       "      <td>None</td>\n",
       "      <td>None</td>\n",
       "      <td>0</td>\n",
       "      <td>1</td>\n",
       "      <td>2008</td>\n",
       "      <td>New</td>\n",
       "      <td>11.982935</td>\n",
       "    </tr>\n",
       "    <tr>\n",
       "      <th>1885</th>\n",
       "      <td>2181</td>\n",
       "      <td>908154195</td>\n",
       "      <td>20</td>\n",
       "      <td>RL</td>\n",
       "      <td>128.0</td>\n",
       "      <td>39290</td>\n",
       "      <td>Pave</td>\n",
       "      <td>IR1</td>\n",
       "      <td>Bnk</td>\n",
       "      <td>AllPub</td>\n",
       "      <td>...</td>\n",
       "      <td>0</td>\n",
       "      <td>0</td>\n",
       "      <td>None</td>\n",
       "      <td>None</td>\n",
       "      <td>Elev</td>\n",
       "      <td>17000</td>\n",
       "      <td>10</td>\n",
       "      <td>2007</td>\n",
       "      <td>New</td>\n",
       "      <td>12.121881</td>\n",
       "    </tr>\n",
       "  </tbody>\n",
       "</table>\n",
       "<p>2 rows × 79 columns</p>\n",
       "</div>"
      ],
      "text/plain": [
       "        id        pid  ms_subclass ms_zoning  lot_frontage  lot_area street  \\\n",
       "960   1499  908154235           60        RL         313.0     63887   Pave   \n",
       "1885  2181  908154195           20        RL         128.0     39290   Pave   \n",
       "\n",
       "     lot_shape land_contour utilities    ...     screen_porch pool_area  \\\n",
       "960        IR3          Bnk    AllPub    ...                0       480   \n",
       "1885       IR1          Bnk    AllPub    ...                0         0   \n",
       "\n",
       "     pool_qc fence misc_feature misc_val mo_sold  yr_sold  sale_type  \\\n",
       "960       Gd  None         None        0       1     2008        New   \n",
       "1885    None  None         Elev    17000      10     2007        New   \n",
       "\n",
       "      saleprice  \n",
       "960   11.982935  \n",
       "1885  12.121881  \n",
       "\n",
       "[2 rows x 79 columns]"
      ]
     },
     "execution_count": 48,
     "metadata": {},
     "output_type": "execute_result"
    }
   ],
   "source": [
    "housing[(housing['gr_liv_area'] > 5000) & (housing['saleprice'] < 12.5)]"
   ]
  },
  {
   "cell_type": "markdown",
   "metadata": {},
   "source": [
    "**House ID 1499 and 2181 are our outliers. It is likely that these homes are on large lots closer to agricultural zones and thus have low values even though they represent large, high-quality properties. Let's drop these rows:**"
   ]
  },
  {
   "cell_type": "code",
   "execution_count": 49,
   "metadata": {},
   "outputs": [],
   "source": [
    "housing.drop([960, 1885], axis=0, inplace=True)"
   ]
  },
  {
   "cell_type": "markdown",
   "metadata": {},
   "source": [
    "**Looking at the distribution of ground living area again, we see a less skewed distribution:**"
   ]
  },
  {
   "cell_type": "code",
   "execution_count": 50,
   "metadata": {},
   "outputs": [
    {
     "data": {
      "image/png": "[encoded data removed]",
      "text/plain": [
       "<matplotlib.figure.Figure at 0x27e834c7a20>"
      ]
     },
     "metadata": {},
     "output_type": "display_data"
    }
   ],
   "source": [
    "plt.figure(figsize=(10, 6))\n",
    "sns.distplot(housing.gr_liv_area, bins=20, kde=False)\n",
    "plt.title('Histogram of ground living area', size=16)\n",
    "plt.xlabel('Ground living area (sq ft)', size=14)\n",
    "plt.ylabel('Count', size=14);"
   ]
  },
  {
   "cell_type": "markdown",
   "metadata": {},
   "source": [
    "### Low area outliers"
   ]
  },
  {
   "cell_type": "code",
   "execution_count": 51,
   "metadata": {
    "scrolled": false
   },
   "outputs": [
    {
     "data": {
      "text/html": [
       "<div>\n",
       "<style scoped>\n",
       "    .dataframe tbody tr th:only-of-type {\n",
       "        vertical-align: middle;\n",
       "    }\n",
       "\n",
       "    .dataframe tbody tr th {\n",
       "        vertical-align: top;\n",
       "    }\n",
       "\n",
       "    .dataframe thead th {\n",
       "        text-align: right;\n",
       "    }\n",
       "</style>\n",
       "<table border=\"1\" class=\"dataframe\">\n",
       "  <thead>\n",
       "    <tr style=\"text-align: right;\">\n",
       "      <th></th>\n",
       "      <th>id</th>\n",
       "      <th>pid</th>\n",
       "      <th>ms_subclass</th>\n",
       "      <th>ms_zoning</th>\n",
       "      <th>lot_frontage</th>\n",
       "      <th>lot_area</th>\n",
       "      <th>street</th>\n",
       "      <th>lot_shape</th>\n",
       "      <th>land_contour</th>\n",
       "      <th>utilities</th>\n",
       "      <th>...</th>\n",
       "      <th>screen_porch</th>\n",
       "      <th>pool_area</th>\n",
       "      <th>pool_qc</th>\n",
       "      <th>fence</th>\n",
       "      <th>misc_feature</th>\n",
       "      <th>misc_val</th>\n",
       "      <th>mo_sold</th>\n",
       "      <th>yr_sold</th>\n",
       "      <th>sale_type</th>\n",
       "      <th>saleprice</th>\n",
       "    </tr>\n",
       "  </thead>\n",
       "  <tbody>\n",
       "    <tr>\n",
       "      <th>183</th>\n",
       "      <td>1554</td>\n",
       "      <td>910251050</td>\n",
       "      <td>20</td>\n",
       "      <td>A (agr)</td>\n",
       "      <td>80.0</td>\n",
       "      <td>14584</td>\n",
       "      <td>Pave</td>\n",
       "      <td>Reg</td>\n",
       "      <td>Low</td>\n",
       "      <td>AllPub</td>\n",
       "      <td>...</td>\n",
       "      <td>0</td>\n",
       "      <td>0</td>\n",
       "      <td>None</td>\n",
       "      <td>None</td>\n",
       "      <td>None</td>\n",
       "      <td>0</td>\n",
       "      <td>2</td>\n",
       "      <td>2008</td>\n",
       "      <td>WD</td>\n",
       "      <td>9.480444</td>\n",
       "    </tr>\n",
       "    <tr>\n",
       "      <th>1628</th>\n",
       "      <td>182</td>\n",
       "      <td>902207130</td>\n",
       "      <td>30</td>\n",
       "      <td>RM</td>\n",
       "      <td>68.0</td>\n",
       "      <td>9656</td>\n",
       "      <td>Pave</td>\n",
       "      <td>Reg</td>\n",
       "      <td>Lvl</td>\n",
       "      <td>AllPub</td>\n",
       "      <td>...</td>\n",
       "      <td>0</td>\n",
       "      <td>0</td>\n",
       "      <td>None</td>\n",
       "      <td>None</td>\n",
       "      <td>None</td>\n",
       "      <td>0</td>\n",
       "      <td>6</td>\n",
       "      <td>2010</td>\n",
       "      <td>WD</td>\n",
       "      <td>9.456419</td>\n",
       "    </tr>\n",
       "  </tbody>\n",
       "</table>\n",
       "<p>2 rows × 79 columns</p>\n",
       "</div>"
      ],
      "text/plain": [
       "        id        pid  ms_subclass ms_zoning  lot_frontage  lot_area street  \\\n",
       "183   1554  910251050           20   A (agr)          80.0     14584   Pave   \n",
       "1628   182  902207130           30        RM          68.0      9656   Pave   \n",
       "\n",
       "     lot_shape land_contour utilities    ...     screen_porch pool_area  \\\n",
       "183        Reg          Low    AllPub    ...                0         0   \n",
       "1628       Reg          Lvl    AllPub    ...                0         0   \n",
       "\n",
       "     pool_qc fence misc_feature misc_val mo_sold  yr_sold  sale_type  \\\n",
       "183     None  None         None        0       2     2008        WD    \n",
       "1628    None  None         None        0       6     2010        WD    \n",
       "\n",
       "      saleprice  \n",
       "183    9.480444  \n",
       "1628   9.456419  \n",
       "\n",
       "[2 rows x 79 columns]"
      ]
     },
     "execution_count": 51,
     "metadata": {},
     "output_type": "execute_result"
    }
   ],
   "source": [
    "housing[(housing['gr_liv_area'] < 1000) & (housing['saleprice'] < 10)]"
   ]
  },
  {
   "cell_type": "markdown",
   "metadata": {},
   "source": [
    "**Let's drop these observations as well.**"
   ]
  },
  {
   "cell_type": "code",
   "execution_count": 52,
   "metadata": {},
   "outputs": [],
   "source": [
    "housing.drop([183, 1628], axis=0, inplace=True)"
   ]
  },
  {
   "cell_type": "markdown",
   "metadata": {},
   "source": [
    "###  Lot area\n",
    "\n",
    "Let's look at the distribution of this feature first:"
   ]
  },
  {
   "cell_type": "code",
   "execution_count": 53,
   "metadata": {},
   "outputs": [
    {
     "data": {
      "text/plain": [
       "Text(0.5,1,'Boxplot of lot area')"
      ]
     },
     "execution_count": 53,
     "metadata": {},
     "output_type": "execute_result"
    },
    {
     "data": {
      "image/png": "[encoded data removed]",
      "text/plain": [
       "<matplotlib.figure.Figure at 0x27e83540908>"
      ]
     },
     "metadata": {},
     "output_type": "display_data"
    }
   ],
   "source": [
    "plt.figure(figsize=(8, 4))\n",
    "sns.boxplot(housing.lot_area)\n",
    "plt.ylabel('Count', size=14)\n",
    "plt.xlabel('Lot area (sqft)', size=14)\n",
    "plt.title('Boxplot of lot area', size=16)"
   ]
  },
  {
   "cell_type": "markdown",
   "metadata": {},
   "source": [
    "**It is evident that the distribution is heavily skewed; let's inspect the two most noticeable outliers:**"
   ]
  },
  {
   "cell_type": "code",
   "execution_count": 54,
   "metadata": {},
   "outputs": [
    {
     "data": {
      "text/html": [
       "<div>\n",
       "<style scoped>\n",
       "    .dataframe tbody tr th:only-of-type {\n",
       "        vertical-align: middle;\n",
       "    }\n",
       "\n",
       "    .dataframe tbody tr th {\n",
       "        vertical-align: top;\n",
       "    }\n",
       "\n",
       "    .dataframe thead th {\n",
       "        text-align: right;\n",
       "    }\n",
       "</style>\n",
       "<table border=\"1\" class=\"dataframe\">\n",
       "  <thead>\n",
       "    <tr style=\"text-align: right;\">\n",
       "      <th></th>\n",
       "      <th>id</th>\n",
       "      <th>pid</th>\n",
       "      <th>ms_subclass</th>\n",
       "      <th>ms_zoning</th>\n",
       "      <th>lot_frontage</th>\n",
       "      <th>lot_area</th>\n",
       "      <th>street</th>\n",
       "      <th>lot_shape</th>\n",
       "      <th>land_contour</th>\n",
       "      <th>utilities</th>\n",
       "      <th>...</th>\n",
       "      <th>screen_porch</th>\n",
       "      <th>pool_area</th>\n",
       "      <th>pool_qc</th>\n",
       "      <th>fence</th>\n",
       "      <th>misc_feature</th>\n",
       "      <th>misc_val</th>\n",
       "      <th>mo_sold</th>\n",
       "      <th>yr_sold</th>\n",
       "      <th>sale_type</th>\n",
       "      <th>saleprice</th>\n",
       "    </tr>\n",
       "  </thead>\n",
       "  <tbody>\n",
       "    <tr>\n",
       "      <th>471</th>\n",
       "      <td>2116</td>\n",
       "      <td>906426060</td>\n",
       "      <td>50</td>\n",
       "      <td>RL</td>\n",
       "      <td>68.0</td>\n",
       "      <td>159000</td>\n",
       "      <td>Pave</td>\n",
       "      <td>IR2</td>\n",
       "      <td>Low</td>\n",
       "      <td>AllPub</td>\n",
       "      <td>...</td>\n",
       "      <td>0</td>\n",
       "      <td>0</td>\n",
       "      <td>None</td>\n",
       "      <td>None</td>\n",
       "      <td>Shed</td>\n",
       "      <td>500</td>\n",
       "      <td>6</td>\n",
       "      <td>2007</td>\n",
       "      <td>WD</td>\n",
       "      <td>12.531776</td>\n",
       "    </tr>\n",
       "    <tr>\n",
       "      <th>694</th>\n",
       "      <td>2072</td>\n",
       "      <td>905301050</td>\n",
       "      <td>20</td>\n",
       "      <td>RL</td>\n",
       "      <td>68.0</td>\n",
       "      <td>115149</td>\n",
       "      <td>Pave</td>\n",
       "      <td>IR2</td>\n",
       "      <td>Low</td>\n",
       "      <td>AllPub</td>\n",
       "      <td>...</td>\n",
       "      <td>0</td>\n",
       "      <td>0</td>\n",
       "      <td>None</td>\n",
       "      <td>None</td>\n",
       "      <td>None</td>\n",
       "      <td>0</td>\n",
       "      <td>6</td>\n",
       "      <td>2007</td>\n",
       "      <td>WD</td>\n",
       "      <td>12.618186</td>\n",
       "    </tr>\n",
       "  </tbody>\n",
       "</table>\n",
       "<p>2 rows × 79 columns</p>\n",
       "</div>"
      ],
      "text/plain": [
       "       id        pid  ms_subclass ms_zoning  lot_frontage  lot_area street  \\\n",
       "471  2116  906426060           50        RL          68.0    159000   Pave   \n",
       "694  2072  905301050           20        RL          68.0    115149   Pave   \n",
       "\n",
       "    lot_shape land_contour utilities    ...     screen_porch pool_area  \\\n",
       "471       IR2          Low    AllPub    ...                0         0   \n",
       "694       IR2          Low    AllPub    ...                0         0   \n",
       "\n",
       "    pool_qc fence misc_feature misc_val mo_sold  yr_sold  sale_type  saleprice  \n",
       "471    None  None         Shed      500       6     2007        WD   12.531776  \n",
       "694    None  None         None        0       6     2007        WD   12.618186  \n",
       "\n",
       "[2 rows x 79 columns]"
      ]
     },
     "execution_count": 54,
     "metadata": {},
     "output_type": "execute_result"
    }
   ],
   "source": [
    "housing[housing.lot_area > 100000]"
   ]
  },
  {
   "cell_type": "markdown",
   "metadata": {},
   "source": [
    "**Let's drop these rows:**"
   ]
  },
  {
   "cell_type": "code",
   "execution_count": 55,
   "metadata": {},
   "outputs": [],
   "source": [
    "housing.drop([471, 694], axis=0, inplace=True)"
   ]
  },
  {
   "cell_type": "markdown",
   "metadata": {},
   "source": [
    "### Lot frontage"
   ]
  },
  {
   "cell_type": "code",
   "execution_count": 56,
   "metadata": {},
   "outputs": [
    {
     "data": {
      "text/html": [
       "<div>\n",
       "<style scoped>\n",
       "    .dataframe tbody tr th:only-of-type {\n",
       "        vertical-align: middle;\n",
       "    }\n",
       "\n",
       "    .dataframe tbody tr th {\n",
       "        vertical-align: top;\n",
       "    }\n",
       "\n",
       "    .dataframe thead th {\n",
       "        text-align: right;\n",
       "    }\n",
       "</style>\n",
       "<table border=\"1\" class=\"dataframe\">\n",
       "  <thead>\n",
       "    <tr style=\"text-align: right;\">\n",
       "      <th></th>\n",
       "      <th>id</th>\n",
       "      <th>pid</th>\n",
       "      <th>ms_subclass</th>\n",
       "      <th>ms_zoning</th>\n",
       "      <th>lot_frontage</th>\n",
       "      <th>lot_area</th>\n",
       "      <th>street</th>\n",
       "      <th>lot_shape</th>\n",
       "      <th>land_contour</th>\n",
       "      <th>utilities</th>\n",
       "      <th>...</th>\n",
       "      <th>screen_porch</th>\n",
       "      <th>pool_area</th>\n",
       "      <th>pool_qc</th>\n",
       "      <th>fence</th>\n",
       "      <th>misc_feature</th>\n",
       "      <th>misc_val</th>\n",
       "      <th>mo_sold</th>\n",
       "      <th>yr_sold</th>\n",
       "      <th>sale_type</th>\n",
       "      <th>saleprice</th>\n",
       "    </tr>\n",
       "  </thead>\n",
       "  <tbody>\n",
       "    <tr>\n",
       "      <th>1335</th>\n",
       "      <td>1266</td>\n",
       "      <td>535427070</td>\n",
       "      <td>20</td>\n",
       "      <td>RL</td>\n",
       "      <td>313.0</td>\n",
       "      <td>27650</td>\n",
       "      <td>Pave</td>\n",
       "      <td>IR2</td>\n",
       "      <td>HLS</td>\n",
       "      <td>AllPub</td>\n",
       "      <td>...</td>\n",
       "      <td>0</td>\n",
       "      <td>0</td>\n",
       "      <td>None</td>\n",
       "      <td>None</td>\n",
       "      <td>None</td>\n",
       "      <td>0</td>\n",
       "      <td>11</td>\n",
       "      <td>2008</td>\n",
       "      <td>WD</td>\n",
       "      <td>12.396697</td>\n",
       "    </tr>\n",
       "  </tbody>\n",
       "</table>\n",
       "<p>1 rows × 79 columns</p>\n",
       "</div>"
      ],
      "text/plain": [
       "        id        pid  ms_subclass ms_zoning  lot_frontage  lot_area street  \\\n",
       "1335  1266  535427070           20        RL         313.0     27650   Pave   \n",
       "\n",
       "     lot_shape land_contour utilities    ...     screen_porch pool_area  \\\n",
       "1335       IR2          HLS    AllPub    ...                0         0   \n",
       "\n",
       "     pool_qc fence misc_feature misc_val mo_sold  yr_sold  sale_type  \\\n",
       "1335    None  None         None        0      11     2008        WD    \n",
       "\n",
       "      saleprice  \n",
       "1335  12.396697  \n",
       "\n",
       "[1 rows x 79 columns]"
      ]
     },
     "execution_count": 56,
     "metadata": {},
     "output_type": "execute_result"
    }
   ],
   "source": [
    "housing[(housing['lot_frontage'] > 200) & (housing['saleprice'] < 13)]"
   ]
  },
  {
   "cell_type": "code",
   "execution_count": 57,
   "metadata": {},
   "outputs": [],
   "source": [
    "housing.drop(1335, axis=0, inplace=True)"
   ]
  },
  {
   "cell_type": "markdown",
   "metadata": {},
   "source": [
    "## Feature Engineering\n",
    "\n",
    "Several of our features can be summariezed in a single column. Let's construct 2 features that summarize multiple columns:   \n",
    "1) total_baths - The total number of bathrooms in the home  \n",
    "2) total_outdoor - the total area of outdoor surrounded areas (decks and porches)"
   ]
  },
  {
   "cell_type": "code",
   "execution_count": 58,
   "metadata": {},
   "outputs": [],
   "source": [
    "housing['total_baths'] = housing['bsmt_full_bath'] + 0.5*housing['bsmt_half_bath'] + housing['full_bath'] + 0.5*housing['half_bath']"
   ]
  },
  {
   "cell_type": "code",
   "execution_count": 59,
   "metadata": {},
   "outputs": [],
   "source": [
    "housing['total_outdoor'] = housing['wood_deck_sf'] + housing['enclosed_porch'] + housing['3ssn_porch'] + housing['open_porch_sf'] + housing['screen_porch']"
   ]
  },
  {
   "cell_type": "code",
   "execution_count": 60,
   "metadata": {},
   "outputs": [],
   "source": [
    "test['total_baths'] = test['bsmt_full_bath'] + 0.5*test['bsmt_half_bath'] + test['full_bath'] + 0.5*test['half_bath']"
   ]
  },
  {
   "cell_type": "code",
   "execution_count": 61,
   "metadata": {},
   "outputs": [],
   "source": [
    "test['total_outdoor'] = test['wood_deck_sf'] + test['enclosed_porch'] + test['3ssn_porch'] + test['open_porch_sf'] + test['screen_porch']"
   ]
  },
  {
   "cell_type": "markdown",
   "metadata": {},
   "source": [
    "Let's drop the individual parts now:"
   ]
  },
  {
   "cell_type": "code",
   "execution_count": 62,
   "metadata": {},
   "outputs": [],
   "source": [
    "bath_vars = ['total_baths', 'bsmt_full_bath', 'bsmt_half_bath', 'full_bath', 'half_bath']\n",
    "outdoor_var = ['wood_deck_sf', 'enclosed_porch', '3ssn_porch', 'open_porch_sf', 'screen_porch']\n",
    "\n",
    "housing.drop(bath_vars + outdoor_var, axis=1, inplace=True)\n",
    "test.drop(bath_vars + outdoor_var, axis=1, inplace=True)"
   ]
  },
  {
   "cell_type": "markdown",
   "metadata": {},
   "source": [
    "Since we already have a total basement size column, let's remove the individual components of that variable as well:"
   ]
  },
  {
   "cell_type": "code",
   "execution_count": 63,
   "metadata": {},
   "outputs": [],
   "source": [
    "bsmt_vars = ['bsmtfin_sf_1', 'bsmtfin_sf_2', 'bsmt_unf_sf', 'low_qual_fin_sf']\n",
    "\n",
    "housing.drop(bsmt_vars, axis=1, inplace=True)\n",
    "test.drop(bsmt_vars, axis=1, inplace=True)"
   ]
  },
  {
   "cell_type": "markdown",
   "metadata": {},
   "source": [
    "### Dropping/redefining columns with low counts"
   ]
  },
  {
   "cell_type": "markdown",
   "metadata": {},
   "source": [
    "#### Kitchens above ground"
   ]
  },
  {
   "cell_type": "code",
   "execution_count": 64,
   "metadata": {
    "scrolled": true
   },
   "outputs": [
    {
     "data": {
      "text/plain": [
       "1    1953\n",
       "2      88\n",
       "0       2\n",
       "3       1\n",
       "Name: kitchen_abvgr, dtype: int64"
      ]
     },
     "execution_count": 64,
     "metadata": {},
     "output_type": "execute_result"
    }
   ],
   "source": [
    "housing.kitchen_abvgr.value_counts()"
   ]
  },
  {
   "cell_type": "markdown",
   "metadata": {},
   "source": [
    "A large majority of the homes have only 1 kitchen above ground. Let's drop this column."
   ]
  },
  {
   "cell_type": "code",
   "execution_count": 65,
   "metadata": {},
   "outputs": [],
   "source": [
    "housing.drop('kitchen_abvgr', 1, inplace=True)\n",
    "test.drop('kitchen_abvgr', 1, inplace=True)"
   ]
  },
  {
   "cell_type": "markdown",
   "metadata": {},
   "source": [
    "#### Fireplaces"
   ]
  },
  {
   "cell_type": "code",
   "execution_count": 66,
   "metadata": {},
   "outputs": [
    {
     "data": {
      "text/plain": [
       "0    999\n",
       "1    896\n",
       "2    143\n",
       "3      5\n",
       "4      1\n",
       "Name: fireplaces, dtype: int64"
      ]
     },
     "execution_count": 66,
     "metadata": {},
     "output_type": "execute_result"
    }
   ],
   "source": [
    "housing.fireplaces.value_counts()"
   ]
  },
  {
   "cell_type": "markdown",
   "metadata": {},
   "source": [
    "Most houses have either 1 or no fireplace. Let's define the column to just show whether or not the house had a fireplace:"
   ]
  },
  {
   "cell_type": "code",
   "execution_count": 67,
   "metadata": {},
   "outputs": [],
   "source": [
    "housing['fireplaces'] = housing['fireplaces'].map({0: 0, 1:1, 2:1, 3:1, 4:1})"
   ]
  },
  {
   "cell_type": "code",
   "execution_count": 68,
   "metadata": {},
   "outputs": [
    {
     "data": {
      "text/plain": [
       "1    1045\n",
       "0     999\n",
       "Name: fireplaces, dtype: int64"
      ]
     },
     "execution_count": 68,
     "metadata": {},
     "output_type": "execute_result"
    }
   ],
   "source": [
    "housing.fireplaces.value_counts()"
   ]
  },
  {
   "cell_type": "markdown",
   "metadata": {},
   "source": [
    "#### Street"
   ]
  },
  {
   "cell_type": "code",
   "execution_count": 69,
   "metadata": {},
   "outputs": [
    {
     "data": {
      "text/plain": [
       "Pave    2037\n",
       "Grvl       7\n",
       "Name: street, dtype: int64"
      ]
     },
     "execution_count": 69,
     "metadata": {},
     "output_type": "execute_result"
    }
   ],
   "source": [
    "housing.street.value_counts()"
   ]
  },
  {
   "cell_type": "markdown",
   "metadata": {},
   "source": [
    "Only 7 homes have access to a gravel road. Let's drop this column."
   ]
  },
  {
   "cell_type": "code",
   "execution_count": 70,
   "metadata": {},
   "outputs": [],
   "source": [
    "housing.drop('street', axis=1, inplace=True)\n",
    "test.drop('street', axis=1, inplace=True)"
   ]
  },
  {
   "cell_type": "markdown",
   "metadata": {},
   "source": [
    "#### Pools"
   ]
  },
  {
   "cell_type": "markdown",
   "metadata": {},
   "source": [
    "Less than 10 homes have pools. Let's drop the columns related to pools:"
   ]
  },
  {
   "cell_type": "code",
   "execution_count": 71,
   "metadata": {},
   "outputs": [],
   "source": [
    "housing.drop(['pool_area', 'pool_qc'], axis=1, inplace=True)"
   ]
  },
  {
   "cell_type": "code",
   "execution_count": 72,
   "metadata": {},
   "outputs": [],
   "source": [
    "test.drop(['pool_area', 'pool_qc'], axis=1, inplace=True)"
   ]
  },
  {
   "cell_type": "markdown",
   "metadata": {},
   "source": [
    "#### Utilities"
   ]
  },
  {
   "cell_type": "markdown",
   "metadata": {},
   "source": [
    "While `utilities` has 3 classes, all but 1 observation were in the AllPub class:"
   ]
  },
  {
   "cell_type": "code",
   "execution_count": 73,
   "metadata": {
    "scrolled": true
   },
   "outputs": [
    {
     "data": {
      "text/plain": [
       "AllPub    2042\n",
       "NoSewr       1\n",
       "NoSeWa       1\n",
       "Name: utilities, dtype: int64"
      ]
     },
     "execution_count": 73,
     "metadata": {},
     "output_type": "execute_result"
    }
   ],
   "source": [
    "housing['utilities'].value_counts()"
   ]
  },
  {
   "cell_type": "code",
   "execution_count": 74,
   "metadata": {},
   "outputs": [],
   "source": [
    "housing.drop('utilities', axis=1, inplace=True)\n",
    "test.drop('utilities', axis=1, inplace=True)"
   ]
  },
  {
   "cell_type": "markdown",
   "metadata": {},
   "source": [
    "#### Misc Features"
   ]
  },
  {
   "cell_type": "markdown",
   "metadata": {},
   "source": [
    "Most of the homes don't have an additional miscellaneous feature:"
   ]
  },
  {
   "cell_type": "code",
   "execution_count": 75,
   "metadata": {},
   "outputs": [
    {
     "data": {
      "text/plain": [
       "None    1981\n",
       "Shed      55\n",
       "Gar2       4\n",
       "Othr       3\n",
       "TenC       1\n",
       "Name: misc_feature, dtype: int64"
      ]
     },
     "execution_count": 75,
     "metadata": {},
     "output_type": "execute_result"
    }
   ],
   "source": [
    "housing.misc_feature.value_counts()"
   ]
  },
  {
   "cell_type": "markdown",
   "metadata": {},
   "source": [
    "Let's drop this column and the corresponding `misc_val`:"
   ]
  },
  {
   "cell_type": "code",
   "execution_count": 76,
   "metadata": {},
   "outputs": [],
   "source": [
    "housing.drop(['misc_feature', 'misc_val'], axis=1, inplace=True)\n",
    "\n",
    "test.drop(['misc_feature', 'misc_val'], axis=1, inplace=True)"
   ]
  },
  {
   "cell_type": "markdown",
   "metadata": {},
   "source": [
    "#### Fence\n",
    "\n",
    "Most homes don't have a fence:"
   ]
  },
  {
   "cell_type": "code",
   "execution_count": 77,
   "metadata": {},
   "outputs": [
    {
     "data": {
      "text/plain": [
       "None     1644\n",
       "MnPrv     227\n",
       "GdPrv      83\n",
       "GdWo       80\n",
       "MnWw       10\n",
       "Name: fence, dtype: int64"
      ]
     },
     "execution_count": 77,
     "metadata": {},
     "output_type": "execute_result"
    }
   ],
   "source": [
    "housing.fence.value_counts()"
   ]
  },
  {
   "cell_type": "code",
   "execution_count": 78,
   "metadata": {},
   "outputs": [],
   "source": [
    "housing.drop('fence', axis=1, inplace=True)"
   ]
  },
  {
   "cell_type": "code",
   "execution_count": 79,
   "metadata": {},
   "outputs": [],
   "source": [
    "test.drop('fence', axis=1, inplace=True)"
   ]
  },
  {
   "cell_type": "markdown",
   "metadata": {},
   "source": [
    "## Converting numeric variables to categorical"
   ]
  },
  {
   "cell_type": "markdown",
   "metadata": {},
   "source": [
    "I identified the numeric and categorical variables based on the output of the `plotting` function. We can see that some features are encoded as numeric but represent categories. "
   ]
  },
  {
   "cell_type": "code",
   "execution_count": 80,
   "metadata": {},
   "outputs": [],
   "source": [
    "catcols = ['ms_subclass', 'mo_sold', 'yr_sold', 'bedroom_abvgr', 'fireplaces']"
   ]
  },
  {
   "cell_type": "markdown",
   "metadata": {},
   "source": [
    "Then we convert the numeric variables contained in `catcols` into categorical ones:"
   ]
  },
  {
   "cell_type": "code",
   "execution_count": 81,
   "metadata": {},
   "outputs": [],
   "source": [
    "housing[catcols] = housing[catcols].astype(str)\n",
    "\n",
    "test[catcols] = test[catcols].astype(str)"
   ]
  },
  {
   "cell_type": "markdown",
   "metadata": {},
   "source": [
    "## Deskewing features"
   ]
  },
  {
   "cell_type": "markdown",
   "metadata": {},
   "source": [
    "It would make sense for some of the numeric features to be skewed (there's a lower bound on many features required in a house, but the upper bound would only be constrained by the desires and resources of the land owner). Let's examine the skew of the numeric features:"
   ]
  },
  {
   "cell_type": "code",
   "execution_count": 82,
   "metadata": {},
   "outputs": [],
   "source": [
    "numerics = [x for x in housing.select_dtypes(exclude='object').columns if x not in ['id', 'pid', 'saleprice']]"
   ]
  },
  {
   "cell_type": "code",
   "execution_count": 83,
   "metadata": {},
   "outputs": [
    {
     "name": "stdout",
     "output_type": "stream",
     "text": [
      "The skew for lot_frontage is 0.6841258321149609\n",
      "The skew for lot_area is 3.9671150137214517\n",
      "The skew for overall_qual is 0.16692694416537374\n",
      "The skew for overall_cond is 0.6542783677681044\n",
      "The skew for year_built is -0.609730716625067\n",
      "The skew for year_remod/add is -0.4494606909404276\n",
      "The skew for mas_vnr_area is 2.57700915260858\n",
      "The skew for total_bsmt_sf is 0.4315662125451783\n",
      "The skew for 1st_flr_sf is 0.9643296060419451\n",
      "The skew for 2nd_flr_sf is 0.8732447733508828\n",
      "The skew for gr_liv_area is 0.9294837878950134\n",
      "The skew for totrms_abvgrd is 0.778843231249695\n",
      "The skew for garage_cars is -0.22679116190615453\n",
      "The skew for garage_area is 0.1561792005283305\n",
      "The skew for total_outdoor is 1.3551559142569771\n"
     ]
    }
   ],
   "source": [
    "for x in housing[numerics].columns:\n",
    "    print('The skew for', x, 'is', stats.skew(housing[x]))"
   ]
  },
  {
   "cell_type": "markdown",
   "metadata": {},
   "source": [
    "Let's log transform features with skew > 0.8 to make them closer to normal:"
   ]
  },
  {
   "cell_type": "code",
   "execution_count": 84,
   "metadata": {},
   "outputs": [],
   "source": [
    "for x in housing[numerics].columns:\n",
    "    if stats.skew(housing[x]) > .8:\n",
    "        housing[x] = np.log1p(housing[x])\n",
    "    else:\n",
    "        housing[x]"
   ]
  },
  {
   "cell_type": "code",
   "execution_count": 85,
   "metadata": {
    "scrolled": true
   },
   "outputs": [
    {
     "name": "stdout",
     "output_type": "stream",
     "text": [
      "The skew for lot_frontage is 0.6841258321149609\n",
      "The skew for lot_area is -0.7940672506294796\n",
      "The skew for overall_qual is 0.16692694416537374\n",
      "The skew for overall_cond is 0.6542783677681044\n",
      "The skew for year_built is -0.609730716625067\n",
      "The skew for year_remod/add is -0.4494606909404276\n",
      "The skew for mas_vnr_area is 0.5440242910010953\n",
      "The skew for total_bsmt_sf is 0.4315662125451783\n",
      "The skew for 1st_flr_sf is -0.05050338105437545\n",
      "The skew for 2nd_flr_sf is 0.3403106828635344\n",
      "The skew for gr_liv_area is -0.053442455797723235\n",
      "The skew for totrms_abvgrd is 0.778843231249695\n",
      "The skew for garage_cars is -0.22679116190615453\n",
      "The skew for garage_area is 0.1561792005283305\n",
      "The skew for total_outdoor is -1.3555230416959734\n"
     ]
    }
   ],
   "source": [
    "for x in housing[numerics].columns:\n",
    "    print('The skew for', x, 'is', stats.skew(housing[x]))"
   ]
  },
  {
   "cell_type": "markdown",
   "metadata": {},
   "source": [
    "Let's look closer at some of the skewed variables:"
   ]
  },
  {
   "cell_type": "markdown",
   "metadata": {},
   "source": [
    "Some of these variables are skewed because of a presence of two modes (one for those with the feature and 0 for homes without the feature). Let's convert the variables with this nature to be 1/0 categorical or drop them in favor of continuous ones:"
   ]
  },
  {
   "cell_type": "code",
   "execution_count": 86,
   "metadata": {},
   "outputs": [],
   "source": [
    "housing['has_masonry'] = np.where(housing['mas_vnr_area'] != 0 , 1, 0)\n",
    "housing['has_2nd_flr'] = np.where(housing['2nd_flr_sf'] !=0, 1, 0)\n",
    "housing['has_garage'] = np.where(housing['garage_cars'] !=0, 1, 0)\n",
    "housing['has_outdoor'] = np.where(housing['total_outdoor'] !=0, 1, 0)\n",
    "\n",
    "test['has_masonry'] = np.where(test['mas_vnr_area'] != 0 , 1, 0)\n",
    "test['has_2nd_flr'] = np.where(test['2nd_flr_sf'] !=0, 1, 0)\n",
    "test['has_garage'] = np.where(test['garage_cars'] !=0, 1, 0)\n",
    "test['has_outdoor'] = np.where(test['total_outdoor'] !=0, 1, 0)"
   ]
  },
  {
   "cell_type": "code",
   "execution_count": 87,
   "metadata": {},
   "outputs": [],
   "source": [
    "housing.drop('total_outdoor', axis=1, inplace=True)\n",
    "test.drop('total_outdoor', axis=1, inplace=True)"
   ]
  },
  {
   "cell_type": "code",
   "execution_count": 88,
   "metadata": {},
   "outputs": [],
   "source": [
    "garage_vars = [x for x in housing.columns if 'gar' in x]\n",
    "\n",
    "garage_vars.remove('has_garage')\n",
    "\n",
    "housing.drop(garage_vars, axis=1, inplace=True)\n",
    "test.drop(garage_vars, axis=1, inplace=True)"
   ]
  },
  {
   "cell_type": "code",
   "execution_count": 89,
   "metadata": {},
   "outputs": [],
   "source": [
    "housing.drop(columns=['mas_vnr_type', 'mas_vnr_area'], axis=1, inplace=True)\n",
    "test.drop(columns=['mas_vnr_type', 'mas_vnr_area'], axis=1, inplace=True)"
   ]
  },
  {
   "cell_type": "code",
   "execution_count": 90,
   "metadata": {},
   "outputs": [],
   "source": [
    "housing.drop('2nd_flr_sf', axis=1, inplace=True)\n",
    "test.drop('2nd_flr_sf', axis=1, inplace=True)"
   ]
  },
  {
   "cell_type": "markdown",
   "metadata": {},
   "source": [
    "Since lot frontage and lot area are be highly correlated, let's drop lot frontage as it encodes less information."
   ]
  },
  {
   "cell_type": "code",
   "execution_count": 91,
   "metadata": {},
   "outputs": [],
   "source": [
    "housing.drop('lot_frontage', axis=1, inplace=True)\n",
    "test.drop('lot_frontage', axis=1, inplace=True)"
   ]
  },
  {
   "cell_type": "markdown",
   "metadata": {},
   "source": [
    "## Generate dummy variables"
   ]
  },
  {
   "cell_type": "markdown",
   "metadata": {},
   "source": [
    "First, we generate a list of columns that are non-numeric (including those we converted above) and assign them to the variable `to_be_dummies`:"
   ]
  },
  {
   "cell_type": "code",
   "execution_count": 92,
   "metadata": {},
   "outputs": [],
   "source": [
    "to_be_dummies = housing.select_dtypes(include='object').columns"
   ]
  },
  {
   "cell_type": "code",
   "execution_count": 93,
   "metadata": {},
   "outputs": [
    {
     "data": {
      "text/plain": [
       "36"
      ]
     },
     "execution_count": 93,
     "metadata": {},
     "output_type": "execute_result"
    }
   ],
   "source": [
    "len(to_be_dummies)"
   ]
  },
  {
   "cell_type": "markdown",
   "metadata": {},
   "source": [
    "Then we create dummies for those columns:"
   ]
  },
  {
   "cell_type": "code",
   "execution_count": 94,
   "metadata": {},
   "outputs": [],
   "source": [
    "housing = pd.get_dummies(housing, columns=to_be_dummies)"
   ]
  },
  {
   "cell_type": "markdown",
   "metadata": {},
   "source": [
    "Now let's do the same with the test set to prepare it for modeling:"
   ]
  },
  {
   "cell_type": "code",
   "execution_count": 95,
   "metadata": {},
   "outputs": [],
   "source": [
    "test[catcols] = test[catcols].astype(str)\n",
    "\n",
    "test_dummies = test.select_dtypes(include='object').columns\n",
    "\n",
    "test = pd.get_dummies(test, columns=test_dummies)"
   ]
  },
  {
   "cell_type": "markdown",
   "metadata": {},
   "source": [
    "### Checking shape of datasets"
   ]
  },
  {
   "cell_type": "code",
   "execution_count": 96,
   "metadata": {
    "scrolled": true
   },
   "outputs": [
    {
     "data": {
      "text/plain": [
       "((2044, 274), (879, 261))"
      ]
     },
     "execution_count": 96,
     "metadata": {},
     "output_type": "execute_result"
    }
   ],
   "source": [
    "housing.shape, test.shape"
   ]
  },
  {
   "cell_type": "markdown",
   "metadata": {},
   "source": [
    "We can see that there are several dummy categories that didn't show up in the test set (since the number of columns in the training data exceeds that number in the test data). Let's examine the value counts of those variables:"
   ]
  },
  {
   "cell_type": "code",
   "execution_count": 97,
   "metadata": {},
   "outputs": [],
   "source": [
    "not_in_test = set(housing.columns)^set(test.columns)\n",
    "\n",
    "only_in_test = []\n",
    "\n",
    "for i in not_in_test:\n",
    "    try:\n",
    "        housing[i].value_counts()\n",
    "    except:\n",
    "        only_in_test.append(i)"
   ]
  },
  {
   "cell_type": "markdown",
   "metadata": {},
   "source": [
    "Based on the above output, we see that many of the categories have very low value counts (<10). Let's remove those categories (in addition to those dummies that are in the test data but not in the train data): "
   ]
  },
  {
   "cell_type": "code",
   "execution_count": 98,
   "metadata": {},
   "outputs": [],
   "source": [
    "dummies_to_drop = [x for x in not_in_test if x not in ['overall_qual_10', 'saleprice', 'ms_zoning_C', 'garage_qual_Fa',\\\n",
    "                                                       'bsmt_cond_Fa'] + only_in_test]\n",
    "\n",
    "housing.drop(axis=1, columns=dummies_to_drop, inplace=True)\n",
    "\n",
    "test.drop(axis=1, columns=only_in_test, inplace=True)"
   ]
  },
  {
   "cell_type": "code",
   "execution_count": 99,
   "metadata": {},
   "outputs": [],
   "source": [
    "in_train = list(set(housing.columns)-set(test.columns))\n",
    "\n",
    "in_train.remove('saleprice')\n",
    "\n",
    "for col in in_train:\n",
    "    test[col] = 0\n",
    "\n",
    "no_target = [x for x in housing.columns if x != 'saleprice']\n",
    "\n",
    "test = test[housing[no_target].columns]"
   ]
  },
  {
   "cell_type": "code",
   "execution_count": 100,
   "metadata": {},
   "outputs": [
    {
     "data": {
      "text/plain": [
       "(2044, 252)"
      ]
     },
     "execution_count": 100,
     "metadata": {},
     "output_type": "execute_result"
    }
   ],
   "source": [
    "housing.shape"
   ]
  },
  {
   "cell_type": "markdown",
   "metadata": {},
   "source": [
    "## Exporting for modeling"
   ]
  },
  {
   "cell_type": "markdown",
   "metadata": {},
   "source": [
    "Now we export these data to use in the modeling worksheet:"
   ]
  },
  {
   "cell_type": "code",
   "execution_count": 101,
   "metadata": {},
   "outputs": [],
   "source": [
    "housing.to_csv('../data/train_model_ready.csv', index=False)\n",
    "test.to_csv('../data/test_model_ready.csv', index=False)"
   ]
  },
  {
   "cell_type": "code",
   "execution_count": 102,
   "metadata": {},
   "outputs": [
    {
     "data": {
      "text/plain": [
       "((2044, 252), (879, 251))"
      ]
     },
     "execution_count": 102,
     "metadata": {},
     "output_type": "execute_result"
    }
   ],
   "source": [
    "housing.shape, test.shape"
   ]
  }
 ],
 "metadata": {
  "kernelspec": {
   "display_name": "Python [default]",
   "language": "python",
   "name": "python3"
  },
  "language_info": {
   "codemirror_mode": {
    "name": "ipython",
    "version": 3
   },
   "file_extension": ".py",
   "mimetype": "text/x-python",
   "name": "python",
   "nbconvert_exporter": "python",
   "pygments_lexer": "ipython3",
   "version": "3.6.4"
  },
  "toc": {
   "base_numbering": 1,
   "nav_menu": {},
   "number_sections": true,
   "sideBar": true,
   "skip_h1_title": true,
   "title_cell": "Table of Contents",
   "title_sidebar": "Contents",
   "toc_cell": false,
   "toc_position": {
    "height": "calc(100% - 180px)",
    "left": "10px",
    "top": "150px",
    "width": "307px"
   },
   "toc_section_display": true,
   "toc_window_display": false
  }
 },
 "nbformat": 4,
 "nbformat_minor": 2
}
